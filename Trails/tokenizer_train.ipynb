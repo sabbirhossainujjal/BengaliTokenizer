{
 "cells": [
  {
   "cell_type": "markdown",
   "metadata": {},
   "source": [
    "# First Approach"
   ]
  },
  {
   "cell_type": "code",
   "execution_count": 5,
   "metadata": {},
   "outputs": [],
   "source": [
    "# !pip install -q git+https://github.com/csebuetnlp/normalizer\n",
    "# !pip install huggingface_hub\n",
    "# !pip install tokenizers transformers\n",
    "# !pip install sentencepiece\n"
   ]
  },
  {
   "cell_type": "code",
   "execution_count": 6,
   "metadata": {},
   "outputs": [
    {
     "data": {
      "text/plain": [
       "True"
      ]
     },
     "execution_count": 6,
     "metadata": {},
     "output_type": "execute_result"
    }
   ],
   "source": [
    "import os\n",
    "from dotenv import load_dotenv\n",
    "load_dotenv(\"../.env\")"
   ]
  },
  {
   "cell_type": "code",
   "execution_count": 7,
   "metadata": {},
   "outputs": [
    {
     "name": "stdout",
     "output_type": "stream",
     "text": [
      "Token is valid (permission: write).\n",
      "\u001b[1m\u001b[31mCannot authenticate through git-credential as no helper is defined on your machine.\n",
      "You might have to re-authenticate when pushing to the Hugging Face Hub.\n",
      "Run the following command in your terminal in case you want to set the 'store' credential helper as default.\n",
      "\n",
      "git config --global credential.helper store\n",
      "\n",
      "Read https://git-scm.com/book/en/v2/Git-Tools-Credential-Storage for more details.\u001b[0m\n",
      "Token has not been saved to git credential helper.\n",
      "Your token has been saved to /home/virus_proton/.cache/huggingface/token\n",
      "Login successful\n"
     ]
    }
   ],
   "source": [
    "from huggingface_hub import login as hf_login\n",
    "hf_login(token=os.getenv(\"HF_TOKEN\"), add_to_git_credential=True)"
   ]
  },
  {
   "cell_type": "code",
   "execution_count": 8,
   "metadata": {},
   "outputs": [],
   "source": [
    "# text = ['সাভারের কবিরপুর বাণিজ্যিক এলাকার নিজস্ব ফ্যাক্টরিতে হয়ে গেল ইউনিটেক প্রডাক্টস (বিডি) লিঃ এর দিনব্যাপী সেলস কনফারেন্স। কনফারেন্সটি অনুষ্ঠিত হয় শনিবার, ১১ই মার্চ, সারা দেশ থেকে প্রায় ৩১০ জন ডিলার এই কনফারেন্সটিতে অংশগ্রহণ করেন এবং ইউনিটেকর ফ্যাক্টরি ঘুরে দেখার সুযোগ পান।এসময় ইউনিটেকর ব্যবস্থাপনা পরিচালক, ইঞ্জি: আনিস আহমেদ ডিলারদের উদ্দেশে বক্তব্য রাখেন এবং ইউনিটেক কে বাংলাদেশের সেরা ইলেক্ট্রনিক ব্র্যান্ড হিসেবে গড়ে তোলার আশ্বাস ব্যক্ত করেন। ইঞ্জি: আনিস আহমেদ, জাতীয় এবং বিভাগীয় পর্যায়ে সেরা ডিলারদের হাতে সার্টিফিকেট, ক্রেস্ট ও প্রাইজ বন্ড তুলে দেন। বিজয়ীরা হলেন রুপালি ইলেক্ট্রনিক্স (জাতীয় সেরা), লিয়া এন্টারপ্রাইজ (দ্বিতীয় জাতীয় সেরা), মদিনা ইলেক্ট্রনিক্স (তৃতীয় জাতীয় সেরা), সুন্দরবন ইলেক্ট্রনিক্স (ঢাকা বিভাগ), আলাউদ্দিন ইলেক্ট্রনিক্স (চিটাগং বিভাগ), শান্ত ইলেক্ট্রনিক্স (রাজশাহী রংপুর বিভাগ), নুরুল এন্টারপ্রাইজ (খুলনা বিভাগ), ফেয়ার ভিউ ইলেক্ট্রনিক্স (বরিশাল বিভাগ) ও ফিডব্যাক কমিউনিকেসন (সিলেট বিভাগ)। কনফারেন্সটিতে আরও বক্তব্য রাখেন ইউনিটেকের বিজনেস ডেভেলপমেন্ট অ্যান্ড প্ল্যানিং ম্যানেজার এ কে এম হামিদুর রহমান, সেলস অ্যান্ড ডেভেলপমেন্ট ম্যানেজার এ টি এম আখতার হোসেন ও ইউনিটেকের সেলস ম্যানেজার ডিলার চ্যানেল জাকির হোসেন। -প্রেস বিজ্ঞপ্তি']\n"
   ]
  },
  {
   "cell_type": "code",
   "execution_count": 9,
   "metadata": {},
   "outputs": [],
   "source": [
    "text = [\"\"\"\n",
    "পড়ুনঃ Boy Facebook Name Bangla | ছেলেদের ফেসবুকের নাম\n",
    "\n",
    "🥀💗প্রকৃত বন্ধুত্ব, বাস্তব কবিতার মতো,\n",
    "অত্যন্ত বিরল – এবং মুক্তার মতো মূল্যবান। 🥀💗 – তাহার বেন জেলুন\n",
    "\n",
    "🥀💗 প্রতিটি নতুন বন্ধুত্ব আপনাকে একজন নতুন ব্যক্তি করে তুলতে পারে,\n",
    "কারণ এটি আপনার ভিতরে নতুন দরজা খুলে দেয়।  🥀💗— কেট ডিক্যামিলো\n",
    "\n",
    "🥀💗প্রত্যেক বন্ধু আমাদের মধ্যে একটি বিশ্বের প্রতিনিধিত্ব করে,\n",
    "এমন একটি বিশ্ব সম্ভবত জন্মগ্রহণ করে না যতক্ষণ না তারা আসে,\n",
    "এবং বন্ধুত্বের মিলনের মাধ্যমেই একটি নতুন বিশ্বের জন্ম হয়। 🥀💗— আনাইস নিন\n",
    "\n",
    "🥀💗প্রত্যেকের জীবনেই কোনো না কোনো সময় আমাদের ভেতরের আগুন নিভে যায়।\n",
    "তারপর অন্য একজন মানুষের সাথে এনকাউন্টারের মাধ্যমে এটি আগুনে ফেটে যায়।\n",
    "আমাদের সকলের কৃতজ্ঞ হওয়া উচিত সেই সমস্ত\n",
    "\n",
    "\n",
    "\n",
    "লোকদের জন্য যারা অভ্যন্তরীণ আত্মাকে পুনরুজ্জীবিত করে। 🥀💗 — অ্যালবার্ট শোয়েৎজার\n",
    "\n",
    "🥀💗বন্ধু হল আপনার পছন্দের একটি পরিবার।🥀💗– জেস সি. স্কট\n",
    "\n",
    "🥀💗বন্ধু হল সেই বিরল মানুষগুলো,\n",
    "যারা জিজ্ঞেস করে, আমরা কেমন আছি\n",
    "এবং উত্তর শোনার জন্য অপেক্ষা করে। 🥀💗— এড কানিংহাম\n",
    "\n",
    "🥀💗বন্ধুত্ব সর্বদা একটি মিষ্টি দায়িত্ব,\n",
    "কখনও সুযোগ নয়। 🥀💗— খলিল জিবরান\n",
    "\n",
    "🥀💗বন্ধুত্বই একমাত্র সিমেন্ট যা\n",
    "পৃথিবীকে একসাথে ধরে রাখবে। 🥀💗— উড্রো টি. উইলসন\n",
    "\n",
    "🥀💗বন্ধুত্বকে ব্যাখ্যা করা পৃথিবীর সবচেয়ে কঠিন জিনিস।\n",
    "এটি এমন কিছু নয় যা আপনি স্কুলে শিখেন।\n",
    "কিন্তু আপনি যদি বন্ধুত্বের অর্থ না শিখে থাকেন\n",
    "তবে আপনি সত্যিই কিছুই শিখেননি। 🥀💗– মোহাম্মদ আলী\n",
    "\n",
    "🥀💗বন্ধুত্বের মাধুর্যে হাসি থাকুক,\n",
    "কারণ ছোট ছোট জিনিসের শিশিরে মাঝে\n",
    "হৃদয় তার সকাল খুঁজে পায় এবং সতেজ হয়।🥀💗 — খলিল জিবরান\n",
    "\n",
    "🌹🌹বন্ধুরা তোমাকে খাবার কিনে দেয়। সেরা বন্ধুরা আপনার খাবার খায়। – অজানা\n",
    "\n",
    "🌹🌹বন্ধুরা হয়তো ভুলে যেতে পারে আপনি যা বলেছেন, কিন্তু আপনি তাদের কেমন অনুভব করেছেন তা তারা কখনই ভুলবে না। — কার্ল ডব্লিউ বুয়েচনার\n",
    "\n",
    "🌹🌹বেস্ট ফ্রেন্ড যেটাতে আপনি অল্প সময়ের জন্য পাগল হতে পারেন কারণ আপনার কাছে তাদের বলার মতো গুরুত্বপূর্ণ জিনিস আছে। – অজানা\n",
    "\n",
    "🌹🌹যখন আমরা সততার সাথে নিজেকে জিজ্ঞাসা করি যে আমাদের জীবনে কোন ব্যক্তিটি আমাদের কাছে সবচেয়ে বেশি অর্থবহ, আমরা প্রায়শই দেখতে পাই যে তারাই, যারা পরামর্শ, সমাধান বা প্রতিকার দেওয়ার পরিবর্তে, আমাদের ব্যথা ভাগ করে নেওয়া এবং আমাদের ক্ষতগুলিকে উষ্ণভাবে স্পর্শ করা বেছে নিয়েছে । — হেনরি নউয়েন\n",
    "\n",
    "🌹🌹যখন পিছনে তাকাতে কষ্ট হয় এবং আপনি সামনে তাকাতে ভয় পান, আপনি আপনার পাশে তাকাতে পারেন এবং আপনার সেরা বন্ধু সেখানে থাকবে। – অজানা\n",
    "\n",
    "🌹🌹যখন পৃথিবী এত জটিল, বন্ধুত্বের সহজ উপহারটি আমাদের সবার হাতের মধ্যেই। — মারিয়া শ্রীভার\n",
    "\n",
    "🌹🌹যতদিন আমরা একই আকাশ ভাগ করি এবং একই বাতাসে শ্বাস নিই, আমরা এখনও একসাথে আছি। — ডোনা লিন হোপ\n",
    "\n",
    "🌹🌹যদি কখনও এমন দিন আসে যখন আমরা একসাথে থাকতে পারি না, আমাকে আপনার হৃদয়ে রাখুন। আমি সেখানে চিরকাল থাকব। — এ এ মিলনে\n",
    "\n",
    "🌹🌹যাদের সাথে থাকতে স্বাচ্ছন্দ্য বোধ করেন না, এমন বন্ধু তৈরি করবেন না। এমন ব্যক্তিদের বন্ধু বানাও যারা তোমাকে জোর করবে নিজেকে উজাড় করে দিতে। — টমাস জে ওয়াটসন\n",
    "\n",
    "🌹🌹যে বন্ধু তোমার কান্না কারণ বোঝে, সে অনেক বন্ধুর চেয়ে অনেক বেশি মূল্যবান যে শুধু তোমার হাসি জানে। – অজানা\n",
    "\n",
    "ফেসবুক ক্যাপশন বন্ধু নিয়ে\n",
    "ফেসবুক ক্যাপশন বন্ধু নিয়ে\n",
    "🌷🌷 যে বন্ধু দূরে থাকে সে কখনো কখনো হাতের কাছে থাকা বন্ধুর চেয়ে অনেক বেশি কাছে থাকে। — কাহলিল জিবরান\n",
    "\n",
    "🌷🌷যেহেতু বন্ধু হিসেবে পাওয়ার মতো কিছু নেই, তাই তাদের বন্ধু বানানোর সুযোগ কখনই হারাবেন না। – ফ্রান্সেসকো গুইকিয়ারডিনি\n",
    "\n",
    "🌷🌷সত্যিই মহান বন্ধু খুঁজে পাওয়া কঠিন, যাকে ছেড়ে যাওয়া কঠিন এবং তাকে ভুলে যাওয়া অসম্ভব। — জি র‍্যান্ডলফ\n",
    "\n",
    "🌷🌷সত্যিকারের বন্ধু কখনো আলাদা হয় না, হয়তো দূরত্বে থাকে কিন্তু কখনোই হৃদয় থেকে না। – হেলেন কিলার\n",
    "\n",
    "🌷🌷সত্যিকারের বন্ধু তারা নয়। যারা আপনার সমস্যাগুলি অদৃশ্য করে দেয়। আপনি যখন সমস্যার সম্মুখীন হবেন তখন তারা অদৃশ্য হবে না। – অজানা\n",
    "\n",
    "🌷🌷সত্যিকারের বন্ধু হল এমন একজন, যে আপনার অতীত বোঝে, আপনার ভবিষ্যৎকে বিশ্বাস করে এবং আপনি যেভাবে আছেন ঠিক সেভাবেই আপনাকে গ্রহণ করে। – অজানা\n",
    "\n",
    "🌷🌷সত্যিকারের বন্ধুত্ব হল, যখন আপনি তাদের বাড়িতে যান এবং আপনার ওয়াইফাই স্বয়ংক্রিয়ভাবে সংযুক্ত হয়। – অজানা\n",
    "\n",
    "🌷🌷সত্যিকারের বন্ধুত্বের সারমর্ম হল। অন্যের সামান্য ভুলের জন্য ভাতা দেওয়া। — ডেভিড স্টোরি\n",
    "সত্যিকারের বন্ধুরা সর্বদা এক আত্মায় একসাথে থাকে। – এলএম মন্টগোমারি\n",
    "\n",
    "💙💚 সত্যিকারের বন্ধুরা হীরার মতো – উজ্জ্বল, সুন্দর, মূল্যবান এবং সর্বদা শৈলীতে। – নিকোল রিচি\n",
    "\n",
    "💙💚 সর্বোত্তম বন্ধু হল আপনার জীবনের সেই ব্যক্তিরা, যারা আপনাকে জোরে হাসায় এবং আরও ভালভাবে বাঁচতে সাহায্য করে। – অজানা\n",
    "\n",
    "💙💚 সেই সময় আমি বুঝতে পেরেছিলাম একজন সত্যিকারের বন্ধু কী। এমন কেউ যে আপনাকে সবসময় ভালবাসবে – আপনি অপূর্ণ, আপনি বিভ্রান্ত, আপনি ভুল – কারণ এটিই লোকেদের করার কথা। – অজানা\n",
    "\n",
    "💙💚 সেরা বন্ধুরা সবসময় হাসি, স্মৃতি এবং ভিতরের রসিকতা ভাগ করে নেয়। তারা সবসময় সৎ থাকবে এবং যে কোন পরিস্থিতিতে আপনার পাশে থাকবে। তারা আপনার চোখের পানি মুছে দেয়, আপনি পড়ে গেলে আপনাকে তুলে নেয় এবং চিরকালের জন্য আপনার হৃদয়ের টুকরো হয়ে থাকে। – অজানা\n",
    "\n",
    "💙💚 স্থানের কোন দূরত্ব বা সময়ের ব্যবধান তাদের বন্ধুত্বকে কমিয়ে দিতে পারে না যারা একে অপরের মূল্য সম্পর্কে সম্পূর্ণভাবে রাজি। — রবার্ট সাউদি\n",
    "\n",
    "বন্ধু নিয়ে স্ট্যাটাস ক্যাপশন\n",
    "বন্ধু নিয়ে স্ট্যাটাস ক্যাপশন\n",
    "মানুষের জীবনে এমন কিছু সময় আসে যখন নিজেকে অসহায় মনে হয়, তখন নিংস্বাথু ভাবে যে পাশে দাড়ায় সে হল সত্যিকারের-প্রিয় বন্ধু।\n",
    "রাতের রঙ কালো, জোসনা দেয় আলো। আকাশের রঙ নিল, তারা করে ঝিলমিল, গোলাপের রঙ লাল, আমার প্রিয় বন্ধুর সাথে বন্ধুত্ব থাকবে চিরকাল।\n",
    "আমি মুছে দিবো তোর চোখের জল, প্রিয় বন্ধু ভেভে সব কিছু আমায় খুলে বল। সুখ দুঃখের সাথী হয়ে থাকবো তোর সাথে, এতটুকু বিশ্বাস থাকলে হাত রাখ হাতে।\n",
    "বিধাতার হাতে লিখা, কার সাথে কার হবে দেখা। কেউ যানে না কবে কখন, কার সাথে গিয়ে মিলবে জীবন। তবুও থাকে একটি চাওয়া, মনের মতো প্রিয় বন্ধু পাওয়া।\n",
    "আমি সেই বৃষ্টি চাইনা, যে বৃষ্টিতে বন্যা হয়,আমি সেই আকাশ চাইনা, যে আকাশ মেঘলা হয়, আমি এমন প্রিয় বন্ধু চাইনা যে, নতুন কাউকে পেয়ে আমাকে ভুলে যাবে।\n",
    "প্রিয় বন্ধু তুই কোথায় গেলি আমাকে না বলে, আমি আজ চেয়ে আছি তোর পথের পানে, জানি তুই আসবি ফিরে একদিন হঠাৎ করে, সে দিন ও দেখবি প্রিয় বন্ধু আমি যাই নিই তোকে ভুলে।\n",
    "শৈশবের বন্ধু নিয়ে স্ট্যাটাস\n",
    "শৈশবের বন্ধু নিয়ে স্ট্যাটাস\n",
    "আজকাল বেশিরভাগ লোকেরা তাদের বন্ধুদের সাথে বিভিন্ন ছবি তোলে এবং ক্যাপশন সহ সোশ্যাল মিডিয়া বা ফেসবুকে পোস্ট করে। তাই তাদের স্ট্যাটাসকে আরও সুন্দর করতে আমরা কিছু চমৎকার প্রিয় বন্ধুদের নিয়ে স্ট্যাটাস আকারে ক্যাপশন সাজিয়েছি। আমি আশা করি যারা তাদের প্রিয় বন্ধুদের সাথে ক্যাপশন লিখে স্ট্যাটাস দিতে পছন্দ করেন তারা নীচের ক্যাপশনগুলি খুব পছন্দ করবেন।\n",
    "\n",
    "পড়ুনঃ ২০২৪ শিক্ষামূলক বাণী বিখ্যাত ইংরেজি উক্তি বাংলা অর্থ সহ | শিক্ষনীয় উক্তি english\n",
    "\n",
    "তুমি যত উপরে উঠবে ততই তোমার শত্রু বাড়বে, তুমি যত নিচে নামবে ততই তোমার প্রিয় বন্ধু বাড়বে।\n",
    "প্রিয় বন্ধুত্ব থেকে ভালোবাসা তৈরি হয়, সেটাই সুখী জীবনের অন্তনিহিত দিক।\n",
    "সম্পর্কের ওজন মাপতে গেলাম দাঁড়িপাল্লার রেখে, প্রেম বলল যাও চলে যাও প্রিয় বন্ধু টানলো বুকে।\n",
    "প্রাণের চেয়ে প্রিয় তুমি বন্ধু আমার, হাজার বছর বেঁচে থাকুক আমাদের বন্ধুত্ব দুজনার।\n",
    "যে প্রিয় বন্ধু সুদিনে ভাগ বসায়, আর বিপদে ত্যাগ করে চলে যায়, সেই তোমার সবচেয়ে বড় শত্রু।\n",
    "ইচ্ছে করে কলিজার টুকরা প্রিয় বন্ধুগুলোর সাথে একসাথে খোলা আকাশে উড়তে।\n",
    "প্রিয় বন্ধুদের সাথে বন্ধুত্ব হচ্ছে সবচেয়ে মধুর বন্ধন, এই মধুর বন্ধন পৃথিবীতে সবচেয়ে কাছের একটু বন্ধন।\n",
    "বুকের ভিতর মন আছে, মনের ভিতর তুমি প্রিয় বন্ধু হয়ে তোমার হৃদয়ে থাকতে চাই আমি।\n",
    "যে সবার বন্ধু সে কখনো কারও বন্ধুই হতে পারে না।\n",
    "বন্ধুত্ব হলো একই আত্মা এবং শুধু দুটো দেহে বসবাস।\n",
    "সত্যিকার ভালোবাসা বিরল কিন্তু সত্যিকারের বন্ধুত্ব বড়ই দুর্লভ।\n",
    "একমাত্র বন্ধুত্বই এমন একটি বন্ধন যা পুরো পৃথিবীকে একসাথে রাখবে।\n",
    "আমাদের ছোট্ট জীবনে অনেকেই আসে, কিন্তু চিহ্ন রেখে যায় শুধু ভালো বন্ধুরাই।\n",
    "বন্ধুত্ব এমন এক সোনালী সুতো যা পৃথিবীর সব মানুষের হৃদয় গেঁথে রাখে।\n",
    "কলিজার বন্ধু নিয়ে স্ট্যাটাস\n",
    "কলিজার বন্ধু নিয়ে স্ট্যাটাস\n",
    "একজন বন্ধু ভাইয়ের মতো কারণ সে আপনার সুখ-দুঃখ নিজের সাথে ভাগ করে নেয়। বন্ধুত্বের কারণে আজ সবার জীবন খুব ভালো যাচ্ছে। আমরা অনেকেই বন্ধুত্ব নিয়ে স্ট্যাটাস দিয়ে থাকি, তাদের স্ট্যাটাসকে আরো সুন্দর করে তুলতে আমি এখানে কিছু প্রিয় বন্ধুদের নিয়ে স্ট্যাটাস সাজিয়েছি। আশা করি বন্ধুত্বের স্ট্যাটাসটি সবার ভালো লাগবে। যাদের ফ্রেন্ডশিপ স্ট্যাটাস দরকার তারা নিচের স্ট্যাটাস থেকে সংগ্রহ করতে পারেন।\n",
    "\n",
    "আপনার বিপদে সাহায্য করতে পারেনি বলে আপনিও যদি সেই বন্ধুর মতো বিপদে পাশে না থাকেন তাহলে আপনি কখনো তার প্রকৃত বন্ধু ছিলেনই না।\n",
    "একজন আসল বন্ধু চেনা বড়ই কঠিন কারণ যখন আপনার সময় ভালো থাকবে তখন সব বন্ধুরাই পাশে থাকবে কিন্তু যখন সময় খারাপ আসবে তখন কেউই পাশে থাকবে না।\n",
    "আজকে আপনার বিপদে যে মানুষ এসেছিল তার বিপদেও যেন সাহায্যের হাত প্রথমে আপনার থাকে কারণ এই স্বার্থপর দুনিয়ায় একজন আসল বন্ধু পাওয়া বড়ই কঠিন।\n",
    "যদি নতুন বন্ধু হও , মেঘের মতো দূরে যেতে দিব না তো, যদি নতুন বন্ধু হও, পাখির মত উড়ে যেতে দিব না তো, কি করে  বোঝাবো তোমায় মিস করছি কতো।\n",
    "সবাই আমার বন্ধু নয়, আবার আমার নতুন বন্ধু সবার মতো নয়। সে আমার কথা মনে রাখে শত কাজের ভিড়ে। ফ্রি হলে ডাকিও আমায়, আছে আমি তোমার দুয়ারে।\n",
    "আমি সেই বৃষ্টি চায় না, যে বৃষ্টিতে বন্যা হয়। আমি সেই আকাশ চাই না, যে আকাশে মেঘলা হয়। আমি এমন বন্ধু কখনো চাই না, যে নতুন বন্ধু পেয়ে আমাকে ভুলে যায়।\n",
    "জীবনে যদি কাউকে সত্যিই মন দিয়ে বন্ধুত্ব করে তাহলে তাকে কখনো হারিয়ে যেতে দিও না কারণ চোখের জল হয়তো মুছা যায়, কিন্তু হৃদয়ের কান্না কখনো মুছতে পারবে না।\n",
    "যে মানুষটি তোমার বিপদের সময় এড়িয়ে সুখের সময় কাছে থাকে সে তোমার আসল বন্ধু হতে পারে না। কিন্তু যে মানুষটি তোমার বিপদের সময় পাশে থাকে সেই তোমার প্রকৃত বন্ধু।\n",
    "প্রিয় বন্ধু নিয়ে স্ট্যাটাস\n",
    "প্রিয় বন্ধু নিয়ে স্ট্যাটাস\n",
    "সত্যিকারের বন্ধু আর ছায়ার মাঝে অনেকটাই মিল রয়েছে। কারণ একজন সত্যিকারের বন্ধু সুখে দুখে সব সময় ছায়ার মতো পাশে থাকে।\n",
    "বন্ধু এবং গোলাপের মধ্যে একটি বড় পার্থক্য হলো এই গোলাপ কিছুক্ষণের জন্য টিকে থাকে তবে একজন প্রকৃত বন্ধু চিরকাল থাকে।\n",
    "সূর্যের বন্ধুত্ব সকাল থেকে সন্ধ্যা পর্যন্ত, চাঁদের বন্ধুত্ব সঙ্গে থেকে সকাল পর্যন্ত তবে আমাদের বন্ধুত্ব শুরু থেকে শেষ নিঃশ্বাস পর্যন্ত।\n",
    "তুমি কখনো বন্ধুত্বকে  কিনতে পারবে না, তোমাকে এটা অর্জন করে নিতে হবে। কেউ যদি সাহায্যের জন্য আসে তখন তুমি তার সত্যিকারের বন্ধু হয়ে যাও।\n",
    "কথায় বলে বন্ধুত্বে যদি সত্যিই প্রাণের টান থাকে তবে ৪০-৫০ বছর কোন যোগাযোগ না থাকার পরেও দেখা হলে বন্ধুরা একে অপরকে ঠিক আগের মতই জড়িয়ে ধরে।\n",
    "ছেলেদের তুলনায় মেয়েরা অনেক বেশি বন্ধুত্ব তৈরি হয়। লন্ডনের একটি শিক্ষা প্রতিষ্ঠানের গবেষণা বলছে একমাত্র ছেলেরা বন্ধুদের চেয়েও বেশি মূল্য দেয় পারিবারিক সম্পর্ক গুলিকে।\n",
    "একটা একলা গোলাপ আমার ফুলের বাগিচা হতে পারে কিন্তু একজন বন্ধু আমার দুনিয়া।\n",
    "কোন মানুষ কখনো অপ্রয়োজনীয় নয়, যতক্ষণ তার একজন বন্ধু আছে।\n",
    "যার জীবনে একটা বিশ্বস্ত বন্ধু আছে, সে আসলেই একটি গুপ্তধনের পাহাড় পেয়েছে।\n",
    "আমি সময় কাটানোর জন্য বন্ধুদের সাথে রাখি না কিন্তু বন্ধুদের সাথে থাকার জন্য শুধু সময় কাটাই।\n",
    "প্রেম একদিন হারিয়ে যায় কিন্তু সত্যিকারের বন্ধুদের বন্ধুত্ব কখনো হারায় না।\n",
    "একমাত্র সত্যিকারের বন্ধুত্বের চেয়ে মূল্যবান কিছুই নেই এই পৃথিবীতে।\n",
    "নিজের কর্ম, আর নিজের কথায় এই দুটো জিনিসে নিজের বন্ধুর প্রতি সবসময় সৎ থাকো।\n",
    "বন্ধুত্ব এবং ভালো ব্যবহার তোমাকে সেখানে নিয়ে যাবে, তোমায় অর্থও যেখানে নিতে পারবেনা।\n",
    "বন্ধু নিয়ে উক্তি English to Bangla\n",
    "প্রত্যেকেরই সৎ বা বিশ্বস্ত বন্ধু আছে। আমাদের সকলেরই জীবনে কমবেশি বন্ধু আছে আমরা তাদের সাথে অনেক সময় কাটাই এবং সেই সময়গুলোকে মনে রাখার জন্য আমরা বিভিন্ন ছবি তুলি এবং ফেসবুকে বন্ধুদের সাথে ক্যাপশন সহ শেয়ার করি। তাদের পোষ্টটিকে আরো সুন্দর করার জন্য, আমি চমৎকার কিছু বন্ধুত্ব দিয়ে ক্যাপশনটি সাজিয়েছি, আশা করি সবার ভালো লাগবে।\n",
    "\n",
    "জেনে নিনঃ ২১শে ফেব্রুয়ারি নিয়ে উক্তি | ২১ শে ফেব্রুয়ারি ক্যাপশন\n",
    "\n",
    "একটি সু-মিষ্টি বন্ধুত্ব আত্মাকে সতেজ করে। — হিতোপদেশ\n",
    "একদল লোকের সন্ধান করুন যারা আপনাকে চ্যালেঞ্জ এবং অনুপ্রাণিত করে, তাদের সাথে অনেক সময় ব্যয় করুন এবং এটি আপনার জীবনকে বদলে দেবে। — অ্যামি পোহলার\n",
    "এখনও পুরানো বন্ধুদের জন্য একটি শব্দ নেই, যারা সবেমাত্র দেখা করেছে। – জিম হেনসন\n",
    "এটি হল সেই বন্ধুদের যাদের আপনি ভোর  ৫ টায় ফোন করতে পারেন। — মারলিন ডিয়েট্রিচ\n",
    "এমন একজন বন্ধু খুঁজে পাওয়া কঠিন। যে সুন্দর, প্রেমময়, উদার, যত্নশীল এবং স্মার্ট। আপনাদের সবার প্রতি আমার উপদেশ, আমাকে হারাবেন না। – অজানা\n",
    "কখনও কখনও আপনার সেরা বন্ধুর সাথে থাকাই আপনার প্রয়োজনীয় সমস্ত থেরাপি। – অজানা\n",
    "কখনও সময় বন্ধুত্ব থেকে কেড়ে নেয় না, বিচ্ছেদও করে না। – টেনেসি উইলিয়ামস\n",
    "কোন খারাপ কথা বলা এবং তার খারাপ কথাকে সম্মান করা বন্ধুত্বের বিশেষত্ব। — চার্লস ল্যাম্ব\n",
    "কোন বন্ধুত্বই দুর্ঘটনা নয়। — ও. হেনরি\n",
    "জীবনের প্রতিটি পর্যায়ে প্রত্যেকেরই একজন বন্ধু থাকে। কিন্তু শুধুমাত্র ভাগ্যবানদেরই জীবনের সব পর্যায়ে একই বন্ধু থাকে। – অজানা\n",
    "তোমাদের একটি অংশ আমার মধ্যে বেড়ে উঠেছে, একসাথে চিরকাল আমরা থাকব না, কখনও আলাদা থাকব না, হয়তো দূরত্বে, কিন্তু হৃদয়ে নয়। – অজানা\n",
    "দূরের বন্ধুত্বের মধ্যে যাদু আছে। তারা আপনাকে অন্য মানুষের সাথে এমনভাবে সম্পর্ক করতে দেয় যা শারীরিকভাবে একসাথে থাকার বাইরে যায় এবং প্রায়শই আরও গভীর হয়। – ডায়ানা কর্টেস\n",
    "নতুন বন্ধুদের সম্পর্কে দুর্দান্ত জিনিস হল যে তারা আপনার আত্মায় নতুন শক্তি নিয়ে আসে। — শান্না রদ্রিগেজ\n",
    "নতুন লোকেদের সাথে পরিচিত হওয়া এবং নতুন বন্ধু পাওয়া জীবনের সবচেয়ে বড় আনন্দের বিষয়। তাই আপনার ভয়কে জয় করুন এবং সেখান থেকে বেরিয়ে আসুন। – টনি ক্লার্ক\n",
    "নতুন শুরুতে ভয় পাবেন না। নতুন মানুষ, নতুন শক্তি, নতুন পরিবেশ থেকে দূরে সরে যাবেন না। সুখের নতুন সুযোগ আলিঙ্গন করুন। – বিলি চ্যাপাতা\n",
    "নিজেকে সাহায্য করার সবচেয়ে ভালো উপায় হল একজন বন্ধু খুঁজে পাওয়া। – অ্যান কায়সার স্টারন্স\n",
    "পৃথিবীর কাছে হয়তো আপনি শুধুই একজন মানুষ, কিন্তু একজনের কাছে আপনি হতে পারেন তার পৃথিবী। – ডা. সেউস\n",
    "পৃথিবীর সেরা এবং সবচেয়ে সুন্দর জিনিসগুলি চোঁখে দেখা বা স্পর্শ করা যায় না – সেগুলি হৃদয় দিয়ে অনুভব করতে হবে। – হেলেন কিলার\n",
    "উপসংহার\n",
    "এখানে আমি বন্ধুত্ব নিয়ে স্ট্যাটাস, ক্যাপশন, বন্ধুদের সম্পর্কে উদ্ধৃতি এবং প্রিয় বন্ধুদের সম্পর্কে কিছু শব্দ উপস্থাপন করেছি। আশা করি আপনি স্ট্যাটাস, ক্যাপশন, বন্ধুদের সম্পর্কে উদ্ধৃতি এবং প্রিয় বন্ধুদের সম্পর্কে কিছু শব্দ সংগ্রহ করতে সক্ষম হয়েছেন। আজকের লেখাটি ভালো লাগলে আপনার বন্ধুদের সাথে শেয়ার করুন। এছাড়াও এই ধরনের আরো আপডেটের জন্য হোয়াটসআপবিডি নিয়মিত ভিজিট করুন।\n",
    "\n",
    " Post Views: 5,467\n",
    "বিভাগ সমূহসেরা উক্তি এবং ক্যাপশন\n",
    "বাজুস আজকের স্বর্ণের দাম কত, জানতে পড়ুন\n",
    "Boy Facebook Name Bangla | ছেলেদের ফেসবুকের নাম\n",
    "\"\"\"\n",
    "]"
   ]
  },
  {
   "cell_type": "markdown",
   "metadata": {},
   "source": [
    "### Initialize the tokenizer"
   ]
  },
  {
   "cell_type": "code",
   "execution_count": 10,
   "metadata": {},
   "outputs": [],
   "source": [
    "from tokenizers import SentencePieceBPETokenizer\n",
    "\n",
    "tokenizer = SentencePieceBPETokenizer()\n",
    "\n",
    "# tokenizer_arguments = dict()"
   ]
  },
  {
   "cell_type": "markdown",
   "metadata": {},
   "source": [
    "## Train the tokenizer"
   ]
  },
  {
   "cell_type": "code",
   "execution_count": 11,
   "metadata": {},
   "outputs": [
    {
     "name": "stdout",
     "output_type": "stream",
     "text": [
      "\n",
      "\n",
      "\n"
     ]
    }
   ],
   "source": [
    "tokenizer.train_from_iterator(\n",
    "    iterator=text,\n",
    "    # files=\"./Tokenizer_train/demo.txt\",\n",
    "    vocab_size=1000+35,\n",
    "    min_frequency=2,\n",
    "    show_progress=True,\n",
    "    limit_alphabet=500,\n",
    "    # initial_alphabet=['গ', 'ঞ' ,'ক্ট্র'], # only works for single alphabet not \n",
    "    special_tokens=[\n",
    "        \"<pad>\",\n",
    "        \"<s>\",\n",
    "        \"</s>\",\n",
    "        \"<unk>\",\n",
    "        '<mask>'\n",
    "    ]\n",
    ")"
   ]
  },
  {
   "cell_type": "code",
   "execution_count": 12,
   "metadata": {},
   "outputs": [
    {
     "data": {
      "text/plain": [
       "['./vocab.json', './merges.txt']"
      ]
     },
     "execution_count": 12,
     "metadata": {},
     "output_type": "execute_result"
    }
   ],
   "source": [
    "tokenzier_save_path = \"./\"\n",
    "tokenizer.save_model(tokenzier_save_path)"
   ]
  },
  {
   "cell_type": "code",
   "execution_count": 13,
   "metadata": {},
   "outputs": [
    {
     "data": {
      "text/plain": [
       "Encoding(num_tokens=21, attributes=[ids, type_ids, tokens, offsets, attention_mask, special_tokens_mask, overflowing])"
      ]
     },
     "execution_count": 13,
     "metadata": {},
     "output_type": "execute_result"
    }
   ],
   "source": [
    "test_text = \"গেল ইউনিটেক প্রডাক্টস (বিডি)\"\n",
    "tokenizer.encode(test_text)"
   ]
  },
  {
   "cell_type": "markdown",
   "metadata": {},
   "source": [
    "### Add any extra pre defined tokens"
   ]
  },
  {
   "cell_type": "code",
   "execution_count": 14,
   "metadata": {},
   "outputs": [],
   "source": [
    "predefined_tokens = ['ক্ট্র',]"
   ]
  },
  {
   "cell_type": "code",
   "execution_count": 15,
   "metadata": {},
   "outputs": [],
   "source": [
    "# tokenizer.add_tokens(predefined_tokens)"
   ]
  },
  {
   "cell_type": "code",
   "execution_count": 16,
   "metadata": {},
   "outputs": [],
   "source": [
    "# tokenizer.save_model('./')"
   ]
  },
  {
   "cell_type": "code",
   "execution_count": 17,
   "metadata": {},
   "outputs": [
    {
     "data": {
      "text/plain": [
       "Encoding(num_tokens=7, attributes=[ids, type_ids, tokens, offsets, attention_mask, special_tokens_mask, overflowing])"
      ]
     },
     "execution_count": 17,
     "metadata": {},
     "output_type": "execute_result"
    }
   ],
   "source": [
    "tokenizer.encode(\"কনফারেন্স\")"
   ]
  },
  {
   "cell_type": "code",
   "execution_count": 18,
   "metadata": {},
   "outputs": [],
   "source": [
    "# help(tokenizer.train)"
   ]
  },
  {
   "cell_type": "code",
   "execution_count": 19,
   "metadata": {},
   "outputs": [],
   "source": [
    "# tokenizer.train_from_iterator(\n",
    "#     iterator=text,\n",
    "#     vocab_size=35,\n",
    "#     min_frequency=5,\n",
    "#     show_progress=True,\n",
    "#     limit_alphabet=500,\n",
    "#     special_tokens=[\n",
    "#         \"<pad>\",\n",
    "#         \"<s>\",\n",
    "#         \"</s>\",\n",
    "#         \"<unk>\",\n",
    "#         '<mask>'\n",
    "#     ]\n",
    "# )\n"
   ]
  },
  {
   "cell_type": "markdown",
   "metadata": {},
   "source": [
    "### v1"
   ]
  },
  {
   "cell_type": "code",
   "execution_count": 20,
   "metadata": {},
   "outputs": [
    {
     "name": "stdout",
     "output_type": "stream",
     "text": [
      "\n",
      "\n",
      "\n",
      "Encoding(num_tokens=23, attributes=[ids, type_ids, tokens, offsets, attention_mask, special_tokens_mask, overflowing])\n"
     ]
    }
   ],
   "source": [
    "import re\n",
    "\n",
    "def word_iterator(text):\n",
    "    for line in text:\n",
    "        yield re.findall(r'\\S+', line)  # Split text into words\n",
    "\n",
    "tokenizer = SentencePieceBPETokenizer()\n",
    "\n",
    "tokenizer.train_from_iterator(\n",
    "    iterator=word_iterator(text),\n",
    "    vocab_size=500,  # Reduced vocab size\n",
    "    min_frequency=5,  # Increased min frequency\n",
    "    show_progress=True,\n",
    "    limit_alphabet=500,\n",
    "    special_tokens=[\n",
    "        \"<pad>\",\n",
    "        \"<s>\",\n",
    "        \"</s>\",\n",
    "        \"<unk>\",\n",
    "        '<mask>'\n",
    "    ]\n",
    ")\n",
    "\n",
    "tokenizer_save_path = \"./\"\n",
    "tokenizer.save_model(tokenizer_save_path)\n",
    "\n",
    "test_text = \"গেল ইউনিটেক প্রডাক্টস (বিডি)\"\n",
    "print(tokenizer.encode(test_text))"
   ]
  },
  {
   "cell_type": "markdown",
   "metadata": {},
   "source": [
    "### v2"
   ]
  },
  {
   "cell_type": "code",
   "execution_count": 21,
   "metadata": {},
   "outputs": [
    {
     "name": "stdout",
     "output_type": "stream",
     "text": [
      "\n",
      "\n",
      "\n",
      "Encoding(num_tokens=23, attributes=[ids, type_ids, tokens, offsets, attention_mask, special_tokens_mask, overflowing])\n"
     ]
    }
   ],
   "source": [
    "from tokenizers import SentencePieceBPETokenizer\n",
    "import regex as re\n",
    "from typing import List, Iterator  # Added Iterator to the import\n",
    "\n",
    "def bengali_word_iterator(text):\n",
    "    for line in text:\n",
    "        yield re.findall(r'\\S+', line, flags=re.UNICODE)\n",
    "\n",
    "def custom_subword_regularization(piece: str, score: float, is_begin: bool) -> float:\n",
    "    forbidden_start_chars = {'ৎ', 'ং', 'ঃ'}  # Add more characters as needed\n",
    "    \n",
    "    if is_begin and any(piece.startswith(char) for char in forbidden_start_chars):\n",
    "        return float('-inf')\n",
    "    return score\n",
    "\n",
    "class CustomSentencePieceBPETokenizer(SentencePieceBPETokenizer):\n",
    "    def train_from_iterator(\n",
    "        self,\n",
    "        iterator: Iterator[str],\n",
    "        vocab_size: int = 30000,\n",
    "        min_frequency: int = 2,\n",
    "        show_progress: bool = True,\n",
    "        special_tokens: List[str] = None,\n",
    "        initial_alphabet: List[str] = None,\n",
    "        limit_alphabet: int = None,\n",
    "    ) -> None:\n",
    "        super().train_from_iterator(\n",
    "            iterator,\n",
    "            vocab_size=vocab_size,\n",
    "            min_frequency=min_frequency,\n",
    "            show_progress=show_progress,\n",
    "            special_tokens=special_tokens,\n",
    "            initial_alphabet=initial_alphabet,\n",
    "            limit_alphabet=limit_alphabet,\n",
    "            # subword_regularization_alpha=0.1,\n",
    "            # subword_regularization_model=custom_subword_regularization,\n",
    "        )\n",
    "\n",
    "# Common Bengali characters\n",
    "bengali_chars = ['অ', 'আ', 'ই', 'ঈ', 'উ', 'ঊ', 'ঋ', 'এ', 'ঐ', 'ও', 'ঔ', \n",
    "                'ক', 'খ', 'গ', 'ঘ', 'ঙ', 'চ', 'ছ', 'জ', 'ঝ', 'ঞ', \n",
    "                'ট', 'ঠ', 'ড', 'ঢ', 'ণ', 'ত', 'থ', 'দ', 'ধ', 'ন', \n",
    "                'প', 'ফ', 'ব', 'ভ', 'ম', 'য', 'র', 'ল', 'শ', 'ষ', \n",
    "                'স', 'হ', 'ড়', 'ঢ়', 'য়', 'ৎ']\n",
    "\n",
    "tokenizer = CustomSentencePieceBPETokenizer()\n",
    "\n",
    "tokenizer.train_from_iterator(\n",
    "    iterator=bengali_word_iterator(text),\n",
    "    vocab_size=1000,\n",
    "    min_frequency=5,\n",
    "    show_progress=True,\n",
    "    limit_alphabet=1000,\n",
    "    initial_alphabet=bengali_chars,\n",
    "    special_tokens=[\n",
    "        \"<pad>\",\n",
    "        \"<s>\",\n",
    "        \"</s>\",\n",
    "        \"<unk>\",\n",
    "        '<mask>'\n",
    "    ]\n",
    ")\n",
    "\n",
    "tokenizer_save_path = \"./\"\n",
    "tokenizer.save_model(tokenizer_save_path)\n",
    "\n",
    "test_text = \"গেল ইউনিটেক প্রডাক্টস (বিডি)\"\n",
    "print(tokenizer.encode(test_text))"
   ]
  },
  {
   "cell_type": "markdown",
   "metadata": {},
   "source": [
    "### v3"
   ]
  },
  {
   "cell_type": "code",
   "execution_count": 22,
   "metadata": {},
   "outputs": [
    {
     "name": "stdout",
     "output_type": "stream",
     "text": [
      "\n",
      "\n",
      "\n"
     ]
    }
   ],
   "source": [
    "from tokenizers import SentencePieceBPETokenizer\n",
    "import regex as re\n",
    "from typing import List, Iterator\n",
    "\n",
    "def bengali_word_iterator(text):\n",
    "    for line in text:\n",
    "        yield re.findall(r'\\S+', line, flags=re.UNICODE)\n",
    "\n",
    "class CustomSentencePieceBPETokenizer(SentencePieceBPETokenizer):\n",
    "    def __init__(self, forbidden_start_chars=None):\n",
    "        super().__init__()\n",
    "        self.forbidden_start_chars = forbidden_start_chars or {'ৎ', 'ং', 'ঃ'}\n",
    "\n",
    "    def train_from_iterator(\n",
    "        self,\n",
    "        iterator: Iterator[str],\n",
    "        vocab_size: int = 30000,\n",
    "        min_frequency: int = 2,\n",
    "        show_progress: bool = True,\n",
    "        special_tokens: List[str] = None,\n",
    "        initial_alphabet: List[str] = None,\n",
    "    ) -> None:\n",
    "        # First, add the initial alphabet to the vocabulary\n",
    "        if initial_alphabet:\n",
    "            self.add_tokens(initial_alphabet)\n",
    "\n",
    "        # Then, train the tokenizer\n",
    "        super().train_from_iterator(\n",
    "            iterator,\n",
    "            vocab_size=vocab_size,\n",
    "            min_frequency=min_frequency,\n",
    "            show_progress=show_progress,\n",
    "            special_tokens=special_tokens,\n",
    "        )\n",
    "\n",
    "        # # Filter out tokens starting with forbidden characters\n",
    "        # filtered_vocab = {token: score for token, score in self.get_vocab().items()\n",
    "        #                   if not any(token.startswith(char) for char in self.forbidden_start_chars)}\n",
    "        \n",
    "        # # Reset the vocabulary and add the filtered tokens\n",
    "        # self.add_tokens(list(filtered_vocab.keys()))\n",
    "\n",
    "# Common Bengali characters\n",
    "bengali_chars = ['অ', 'আ', 'ই', 'ঈ', 'উ', 'ঊ', 'ঋ', 'এ', 'ঐ', 'ও', 'ঔ', \n",
    "                 'ক', 'খ', 'গ', 'ঘ', 'ঙ', 'চ', 'ছ', 'জ', 'ঝ', 'ঞ', \n",
    "                 'ট', 'ঠ', 'ড', 'ঢ', 'ণ', 'ত', 'থ', 'দ', 'ধ', 'ন', \n",
    "                 'প', 'ফ', 'ব', 'ভ', 'ম', 'য', 'র', 'ল', 'শ', 'ষ', \n",
    "                 'স', 'হ', 'ড়', 'ঢ়', 'য়', 'ন্ধু']\n",
    "\n",
    "tokenizer = CustomSentencePieceBPETokenizer()\n",
    "\n",
    "tokenizer.train_from_iterator(\n",
    "    iterator=bengali_word_iterator(text),\n",
    "    vocab_size=1000,\n",
    "    min_frequency=3,\n",
    "    show_progress=True,\n",
    "    initial_alphabet=bengali_chars,\n",
    "    special_tokens=[\n",
    "        \"<pad>\",\n",
    "        \"<s>\",\n",
    "        \"</s>\",\n",
    "        \"<unk>\",\n",
    "        '<mask>'\n",
    "    ]\n",
    ")\n",
    "\n",
    "tokenizer_save_path = \"./\"\n",
    "tokenizer.save(f\"{tokenizer_save_path}/tokenizer.json\")\n"
   ]
  },
  {
   "cell_type": "code",
   "execution_count": null,
   "metadata": {},
   "outputs": [],
   "source": []
  },
  {
   "cell_type": "code",
   "execution_count": 23,
   "metadata": {},
   "outputs": [
    {
     "data": {
      "text/plain": [
       "b'\\xe0\\xa6\\xa6\\xe0\\xa7\\x8d\\xe0\\xa6\\xad\\xe0\\xa7\\x8d\\xe0\\xa6\\xb0'"
      ]
     },
     "execution_count": 23,
     "metadata": {},
     "output_type": "execute_result"
    }
   ],
   "source": [
    "# test_text = \"গেল ইউনিটেক প্রডাক্টস (বিডি)\"\n",
    "# print(tokenizer.encode(test_text).tokens)\n",
    "'দ্ভ্র'.encode()"
   ]
  },
  {
   "cell_type": "code",
   "execution_count": null,
   "metadata": {},
   "outputs": [
    {
     "ename": "KeyboardInterrupt",
     "evalue": "",
     "output_type": "error",
     "traceback": [
      "\u001b[0;31m---------------------------------------------------------------------------\u001b[0m",
      "\u001b[0;31mKeyboardInterrupt\u001b[0m                         Traceback (most recent call last)",
      "\u001b[0;31mKeyboardInterrupt\u001b[0m: "
     ]
    }
   ],
   "source": [
    "from tokenizer_utils import make_hf_tokenizer\n",
    "test_text = \"গেল ইউনিটেক প্রডাক্টস (বিডি)\"\n",
    "tokenizer = make_hf_tokenizer(tokenizer)\n",
    "tokenizer.tokenize(test_text)"
   ]
  },
  {
   "cell_type": "markdown",
   "metadata": {},
   "source": [
    "### Add tokens after make this transformer tokenizer"
   ]
  },
  {
   "cell_type": "markdown",
   "metadata": {},
   "source": [
    "### Add the tokenizer in huggingface pretrained tokenizer wrapper"
   ]
  },
  {
   "cell_type": "code",
   "execution_count": null,
   "metadata": {},
   "outputs": [],
   "source": [
    "from transformers import PreTrainedTokenizerFast\n",
    "\n",
    "transformer_tokenizer = PreTrainedTokenizerFast(\n",
    "    tokenizer_object=tokenizer #tokenizer_file=\"tokenizer.json\"\n",
    ")\n",
    "transformer_tokenizer"
   ]
  },
  {
   "cell_type": "markdown",
   "metadata": {},
   "source": [
    "### Add tokens after make this transformer tokenizer"
   ]
  },
  {
   "cell_type": "code",
   "execution_count": null,
   "metadata": {},
   "outputs": [],
   "source": [
    "# op={\"special\":False,\"content\":\"ক্ট্র\",\"single_word\":False,\"lstrip\":False,\"rstrip\":False,\"normalized\":False}\n",
    "# mask_token = tokenizer.AddedToken(**op)\n",
    "# tokenizer.add_tokens([mask_token])"
   ]
  },
  {
   "cell_type": "code",
   "execution_count": null,
   "metadata": {},
   "outputs": [],
   "source": [
    "test_text = \"গেল ইউনিটেক প্রডাক্টস (বিডি)\"\n",
    "transformer_tokenizer.tokenize(test_text)"
   ]
  },
  {
   "cell_type": "markdown",
   "metadata": {},
   "source": [
    "# Second Approach"
   ]
  },
  {
   "cell_type": "code",
   "execution_count": null,
   "metadata": {},
   "outputs": [],
   "source": [
    "import sentencepiece as spm\n",
    "\n",
    "# Define your predefined tokens\n",
    "predefined_tokens = [\"ইলেক্ট্র\"]\n",
    "\n",
    "# Write predefined tokens to a file (one token per line)\n",
    "with open(\"predefined_tokens.txt\", \"w\") as f:\n",
    "    for token in predefined_tokens:\n",
    "        f.write(f\"{token}\\n\")\n",
    "\n",
    "# Train the SentencePiece model\n",
    "spm.SentencePieceTrainer.train(\n",
    "    input='./demo.txt',\n",
    "    model_prefix='bpe_model',\n",
    "    vocab_size=160,\n",
    "    user_defined_symbols=predefined_tokens  # Add predefined tokens here\n",
    ")\n"
   ]
  },
  {
   "cell_type": "code",
   "execution_count": null,
   "metadata": {},
   "outputs": [],
   "source": []
  },
  {
   "cell_type": "markdown",
   "metadata": {},
   "source": [
    "# Third Approach"
   ]
  },
  {
   "cell_type": "code",
   "execution_count": null,
   "metadata": {},
   "outputs": [],
   "source": [
    "from tokenizers import AddedToken, Tokenizer, decoders, pre_tokenizers, trainers\n",
    "from tokenizers import Tokenizer, models, normalizers, pre_tokenizers, decoders, trainers\n",
    "from tokenizers.normalizers import NFD, StripAccents\n",
    "from tokenizers.pre_tokenizers import Whitespace\n",
    "from tokenizers.trainers import BpeTrainer"
   ]
  },
  {
   "cell_type": "code",
   "execution_count": null,
   "metadata": {},
   "outputs": [],
   "source": [
    "special_tokens=[\n",
    "    \"<pad>\",\n",
    "    \"<s>\",\n",
    "    \"</s>\",\n",
    "    \"<unk>\",\n",
    "    '<mask>'\n",
    "]"
   ]
  },
  {
   "cell_type": "code",
   "execution_count": null,
   "metadata": {},
   "outputs": [],
   "source": [
    "# Define special tokens\n",
    "special_tokens = [\"<PAD>\", \"<UNK>\", \"<CLS>\", \"<SEP>\", \"<MASK>\"]\n",
    "\n",
    "# Initialize a tokenizer\n",
    "tokenizer = Tokenizer(models.BPE())\n",
    "\n",
    "# Set up normalizers\n",
    "tokenizer.normalizer = normalizers.Sequence([NFD(), StripAccents()])\n",
    "\n",
    "# Set up pre-tokenizers\n",
    "tokenizer.pre_tokenizer = pre_tokenizers.Sequence([Whitespace()])\n",
    "\n",
    "op={\"special\":False,\"content\":\"ক্ট্র\",\"single_word\":False,\"lstrip\":False,\"rstrip\":False,\"normalized\":False}\n",
    "predefined_token = tokenizer.AddedToken(**op)\n",
    "# tokenizer.add_tokens([predefined_token])\n",
    "\n",
    "# Set up decoders\n",
    "tokenizer.decoder = decoders.ByteLevel()\n",
    "\n",
    "# Set up the trainer with special tokens\n",
    "trainer = BpeTrainer(special_tokens=special_tokens+[op])\n",
    "\n",
    "# Train the tokenizer on a list of files or text data\n",
    "files = [\"./demo.txt\"]\n",
    "tokenizer.train(files, trainer)\n",
    "\n",
    "# Save the tokenizer to disk\n",
    "tokenizer.save(\"./tokenizer.json\")\n",
    "\n"
   ]
  },
  {
   "cell_type": "code",
   "execution_count": null,
   "metadata": {},
   "outputs": [],
   "source": [
    "\n",
    "# Test the tokenizer\n",
    "encoded = tokenizer.encode(\"Hello, how are you?\")\n",
    "print(encoded.tokens)"
   ]
  },
  {
   "cell_type": "code",
   "execution_count": null,
   "metadata": {},
   "outputs": [],
   "source": [
    "help(BpeTrainer)"
   ]
  },
  {
   "cell_type": "code",
   "execution_count": null,
   "metadata": {},
   "outputs": [],
   "source": []
  },
  {
   "cell_type": "code",
   "execution_count": null,
   "metadata": {},
   "outputs": [],
   "source": []
  },
  {
   "cell_type": "markdown",
   "metadata": {},
   "source": [
    "# Misc"
   ]
  },
  {
   "cell_type": "code",
   "execution_count": null,
   "metadata": {},
   "outputs": [],
   "source": [
    "from datasets import load_dataset"
   ]
  },
  {
   "cell_type": "code",
   "execution_count": null,
   "metadata": {},
   "outputs": [],
   "source": [
    "# !pip install datasets"
   ]
  },
  {
   "cell_type": "code",
   "execution_count": null,
   "metadata": {},
   "outputs": [],
   "source": [
    "from datasets import load_dataset"
   ]
  },
  {
   "cell_type": "code",
   "execution_count": null,
   "metadata": {},
   "outputs": [],
   "source": [
    "data = load_dataset(\"faruk/bengali-names-vs-gender\")\n",
    "data"
   ]
  },
  {
   "cell_type": "code",
   "execution_count": null,
   "metadata": {},
   "outputs": [],
   "source": [
    "# name_list = data.to_pandas()['Name'].values\n",
    "# \"আজরা আনতারা কুমারী বীরাঙ্গনা\".split()"
   ]
  },
  {
   "cell_type": "code",
   "execution_count": null,
   "metadata": {},
   "outputs": [],
   "source": [
    "name = list(data['train'][\"Name\"])\n",
    "# name"
   ]
  },
  {
   "cell_type": "code",
   "execution_count": null,
   "metadata": {},
   "outputs": [],
   "source": [
    "name_list = []\n",
    "for n in name:\n",
    "    name_list += n.split()\n",
    "    "
   ]
  },
  {
   "cell_type": "code",
   "execution_count": null,
   "metadata": {},
   "outputs": [],
   "source": [
    "len(), len(name_list)"
   ]
  },
  {
   "cell_type": "code",
   "execution_count": null,
   "metadata": {},
   "outputs": [],
   "source": [
    "# import json\n",
    "\n",
    "# with open('name_list.json', 'w') as f:\n",
    "#     json.dump(list(set(name_list)), f)"
   ]
  },
  {
   "cell_type": "code",
   "execution_count": null,
   "metadata": {},
   "outputs": [],
   "source": [
    "with open('name_list.txt', 'w') as file:\n",
    "    # Write each word from the list to the file\n",
    "    for name in sorted(list(set(name_list))):\n",
    "        file.write(name + \"\\n\")"
   ]
  },
  {
   "cell_type": "code",
   "execution_count": null,
   "metadata": {},
   "outputs": [],
   "source": []
  },
  {
   "cell_type": "markdown",
   "metadata": {},
   "source": [
    "# BPETokenizer"
   ]
  },
  {
   "cell_type": "code",
   "execution_count": null,
   "metadata": {},
   "outputs": [],
   "source": [
    "from tokenizers import AddedToken, Tokenizer, decoders, pre_tokenizers, trainers"
   ]
  },
  {
   "cell_type": "code",
   "execution_count": null,
   "metadata": {},
   "outputs": [],
   "source": [
    "# help(trainers.BpeTrainer)"
   ]
  },
  {
   "cell_type": "markdown",
   "metadata": {},
   "source": [
    "# Maybe Final"
   ]
  },
  {
   "cell_type": "code",
   "execution_count": null,
   "metadata": {},
   "outputs": [
    {
     "name": "stderr",
     "output_type": "stream",
     "text": [
      "None of PyTorch, TensorFlow >= 2.0, or Flax have been found. Models won't be available and only tokenizers, configuration and file/data utilities can be used.\n"
     ]
    }
   ],
   "source": [
    "from tokenizer_utils import *\n",
    "tokenizer = SpBPETokenizer()"
   ]
  },
  {
   "cell_type": "code",
   "execution_count": null,
   "metadata": {},
   "outputs": [],
   "source": [
    "text = load_data(\"./demo_1M.txt\")"
   ]
  },
  {
   "cell_type": "code",
   "execution_count": null,
   "metadata": {},
   "outputs": [],
   "source": [
    "# text"
   ]
  },
  {
   "cell_type": "code",
   "execution_count": null,
   "metadata": {},
   "outputs": [
    {
     "name": "stdout",
     "output_type": "stream",
     "text": [
      "\n",
      "\n",
      "\n"
     ]
    },
    {
     "data": {
      "text/plain": [
       "['./vocab.json', './merges.txt']"
      ]
     },
     "execution_count": 4,
     "metadata": {},
     "output_type": "execute_result"
    }
   ],
   "source": [
    "tokenizer.train_from_iterator(\n",
    "    iterator=text,\n",
    "    vocab_size=1000,\n",
    "    min_frequency=5,\n",
    "    show_progress=True,\n",
    "    initial_alphabet=None,\n",
    "    special_tokens=[\n",
    "        \"<pad>\",\n",
    "        \"<s>\",\n",
    "        \"</s>\",\n",
    "        \"<unk>\",\n",
    "        '<mask>'\n",
    "    ]\n",
    ")\n",
    "\n",
    "tokenizer_save_path = \"./\"\n",
    "tokenizer.save_model(tokenizer_save_path)\n"
   ]
  },
  {
   "cell_type": "code",
   "execution_count": null,
   "metadata": {},
   "outputs": [
    {
     "data": {
      "text/plain": [
       "['গ',\n",
       " 'ে',\n",
       " 'ল',\n",
       " '▁',\n",
       " 'ই',\n",
       " 'উ',\n",
       " 'ন',\n",
       " 'ি',\n",
       " 'ট',\n",
       " 'ে',\n",
       " 'ক',\n",
       " '▁',\n",
       " 'প্র',\n",
       " 'ড',\n",
       " 'া',\n",
       " 'ক্ট',\n",
       " 'স',\n",
       " '▁(',\n",
       " 'ব',\n",
       " 'ি',\n",
       " 'ড',\n",
       " 'ি',\n",
       " '▁)']"
      ]
     },
     "execution_count": 8,
     "metadata": {},
     "output_type": "execute_result"
    }
   ],
   "source": [
    "# test_text = \"গেল ইউনিটেক প্রডাক্টস (বিডি)\"\n",
    "# tokenizer.encode(test_text).tokens"
   ]
  },
  {
   "cell_type": "code",
   "execution_count": null,
   "metadata": {},
   "outputs": [],
   "source": []
  },
  {
   "cell_type": "code",
   "execution_count": null,
   "metadata": {},
   "outputs": [],
   "source": []
  }
 ],
 "metadata": {
  "kernelspec": {
   "display_name": "llm_m_env",
   "language": "python",
   "name": "python3"
  },
  "language_info": {
   "codemirror_mode": {
    "name": "ipython",
    "version": 3
   },
   "file_extension": ".py",
   "mimetype": "text/x-python",
   "name": "python",
   "nbconvert_exporter": "python",
   "pygments_lexer": "ipython3",
   "version": "3.10.10"
  }
 },
 "nbformat": 4,
 "nbformat_minor": 2
}
